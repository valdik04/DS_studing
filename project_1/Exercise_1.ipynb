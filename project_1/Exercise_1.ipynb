{
 "cells": [
  {
   "cell_type": "code",
   "execution_count": 29,
   "id": "6c53e4d9",
   "metadata": {},
   "outputs": [],
   "source": [
    "import pandas as pd\n",
    "import numpy as np\n",
    "from datetime import datetime\n",
    "from datetime import date\n",
    "import seaborn as sns"
   ]
  },
  {
   "cell_type": "code",
   "execution_count": 30,
   "id": "2b850d00",
   "metadata": {},
   "outputs": [
    {
     "data": {
      "text/html": [
       "<div>\n",
       "<style scoped>\n",
       "    .dataframe tbody tr th:only-of-type {\n",
       "        vertical-align: middle;\n",
       "    }\n",
       "\n",
       "    .dataframe tbody tr th {\n",
       "        vertical-align: top;\n",
       "    }\n",
       "\n",
       "    .dataframe thead th {\n",
       "        text-align: right;\n",
       "    }\n",
       "</style>\n",
       "<table border=\"1\" class=\"dataframe\">\n",
       "  <thead>\n",
       "    <tr style=\"text-align: right;\">\n",
       "      <th></th>\n",
       "      <th>reg_ts</th>\n",
       "      <th>uid</th>\n",
       "    </tr>\n",
       "  </thead>\n",
       "  <tbody>\n",
       "    <tr>\n",
       "      <th>0</th>\n",
       "      <td>911382223</td>\n",
       "      <td>1</td>\n",
       "    </tr>\n",
       "    <tr>\n",
       "      <th>1</th>\n",
       "      <td>932683089</td>\n",
       "      <td>2</td>\n",
       "    </tr>\n",
       "    <tr>\n",
       "      <th>2</th>\n",
       "      <td>947802447</td>\n",
       "      <td>3</td>\n",
       "    </tr>\n",
       "  </tbody>\n",
       "</table>\n",
       "</div>"
      ],
      "text/plain": [
       "      reg_ts  uid\n",
       "0  911382223    1\n",
       "1  932683089    2\n",
       "2  947802447    3"
      ]
     },
     "execution_count": 30,
     "metadata": {},
     "output_type": "execute_result"
    }
   ],
   "source": [
    "reg_data = pd.read_csv('C:/Users/Владислав/Data science/github/Data/problem1-reg_data.csv', sep=';')\n",
    "reg_data.head(3)"
   ]
  },
  {
   "cell_type": "code",
   "execution_count": 31,
   "id": "d285ddf6",
   "metadata": {},
   "outputs": [
    {
     "data": {
      "text/html": [
       "<div>\n",
       "<style scoped>\n",
       "    .dataframe tbody tr th:only-of-type {\n",
       "        vertical-align: middle;\n",
       "    }\n",
       "\n",
       "    .dataframe tbody tr th {\n",
       "        vertical-align: top;\n",
       "    }\n",
       "\n",
       "    .dataframe thead th {\n",
       "        text-align: right;\n",
       "    }\n",
       "</style>\n",
       "<table border=\"1\" class=\"dataframe\">\n",
       "  <thead>\n",
       "    <tr style=\"text-align: right;\">\n",
       "      <th></th>\n",
       "      <th>auth_ts</th>\n",
       "      <th>uid</th>\n",
       "    </tr>\n",
       "  </thead>\n",
       "  <tbody>\n",
       "    <tr>\n",
       "      <th>0</th>\n",
       "      <td>911382223</td>\n",
       "      <td>1</td>\n",
       "    </tr>\n",
       "    <tr>\n",
       "      <th>1</th>\n",
       "      <td>932683089</td>\n",
       "      <td>2</td>\n",
       "    </tr>\n",
       "    <tr>\n",
       "      <th>2</th>\n",
       "      <td>932921206</td>\n",
       "      <td>2</td>\n",
       "    </tr>\n",
       "  </tbody>\n",
       "</table>\n",
       "</div>"
      ],
      "text/plain": [
       "     auth_ts  uid\n",
       "0  911382223    1\n",
       "1  932683089    2\n",
       "2  932921206    2"
      ]
     },
     "execution_count": 31,
     "metadata": {},
     "output_type": "execute_result"
    }
   ],
   "source": [
    "auth_data = pd.read_csv('C:/Users/Владислав/Data science/github/Data/problem1-auth_data.csv', sep=';')\n",
    "auth_data.head(3)"
   ]
  },
  {
   "cell_type": "code",
   "execution_count": 32,
   "id": "e7925f44",
   "metadata": {},
   "outputs": [
    {
     "data": {
      "text/plain": [
       "(9601013, 2)"
      ]
     },
     "execution_count": 32,
     "metadata": {},
     "output_type": "execute_result"
    }
   ],
   "source": [
    "auth_data.shape"
   ]
  },
  {
   "cell_type": "code",
   "execution_count": 33,
   "id": "38aa6f8e",
   "metadata": {},
   "outputs": [
    {
     "data": {
      "text/plain": [
       "reg_ts    0\n",
       "uid       0\n",
       "dtype: int64"
      ]
     },
     "execution_count": 33,
     "metadata": {},
     "output_type": "execute_result"
    }
   ],
   "source": [
    "reg_data.isnull().sum()"
   ]
  },
  {
   "cell_type": "code",
   "execution_count": 34,
   "id": "c4d140c9",
   "metadata": {},
   "outputs": [
    {
     "data": {
      "text/plain": [
       "auth_ts    0\n",
       "uid        0\n",
       "dtype: int64"
      ]
     },
     "execution_count": 34,
     "metadata": {},
     "output_type": "execute_result"
    }
   ],
   "source": [
    "auth_data.isnull().sum()"
   ]
  },
  {
   "cell_type": "code",
   "execution_count": 35,
   "id": "27f81403",
   "metadata": {},
   "outputs": [
    {
     "data": {
      "text/plain": [
       "0"
      ]
     },
     "execution_count": 35,
     "metadata": {},
     "output_type": "execute_result"
    }
   ],
   "source": [
    "reg_data.duplicated().sum()"
   ]
  },
  {
   "cell_type": "code",
   "execution_count": 36,
   "id": "1f05d344",
   "metadata": {},
   "outputs": [
    {
     "data": {
      "text/plain": [
       "0"
      ]
     },
     "execution_count": 36,
     "metadata": {},
     "output_type": "execute_result"
    }
   ],
   "source": [
    "auth_data.duplicated().sum()"
   ]
  },
  {
   "cell_type": "code",
   "execution_count": 37,
   "id": "3d7e4ace",
   "metadata": {},
   "outputs": [
    {
     "data": {
      "text/html": [
       "<div>\n",
       "<style scoped>\n",
       "    .dataframe tbody tr th:only-of-type {\n",
       "        vertical-align: middle;\n",
       "    }\n",
       "\n",
       "    .dataframe tbody tr th {\n",
       "        vertical-align: top;\n",
       "    }\n",
       "\n",
       "    .dataframe thead th {\n",
       "        text-align: right;\n",
       "    }\n",
       "</style>\n",
       "<table border=\"1\" class=\"dataframe\">\n",
       "  <thead>\n",
       "    <tr style=\"text-align: right;\">\n",
       "      <th></th>\n",
       "      <th>reg_ts</th>\n",
       "      <th>uid</th>\n",
       "    </tr>\n",
       "  </thead>\n",
       "  <tbody>\n",
       "    <tr>\n",
       "      <th>0</th>\n",
       "      <td>911382223</td>\n",
       "      <td>1</td>\n",
       "    </tr>\n",
       "    <tr>\n",
       "      <th>1</th>\n",
       "      <td>932683089</td>\n",
       "      <td>2</td>\n",
       "    </tr>\n",
       "    <tr>\n",
       "      <th>2</th>\n",
       "      <td>947802447</td>\n",
       "      <td>3</td>\n",
       "    </tr>\n",
       "    <tr>\n",
       "      <th>3</th>\n",
       "      <td>959523541</td>\n",
       "      <td>4</td>\n",
       "    </tr>\n",
       "    <tr>\n",
       "      <th>4</th>\n",
       "      <td>969103313</td>\n",
       "      <td>5</td>\n",
       "    </tr>\n",
       "    <tr>\n",
       "      <th>...</th>\n",
       "      <td>...</td>\n",
       "      <td>...</td>\n",
       "    </tr>\n",
       "    <tr>\n",
       "      <th>999995</th>\n",
       "      <td>1600874034</td>\n",
       "      <td>1110618</td>\n",
       "    </tr>\n",
       "    <tr>\n",
       "      <th>999996</th>\n",
       "      <td>1600874086</td>\n",
       "      <td>1110619</td>\n",
       "    </tr>\n",
       "    <tr>\n",
       "      <th>999997</th>\n",
       "      <td>1600874139</td>\n",
       "      <td>1110620</td>\n",
       "    </tr>\n",
       "    <tr>\n",
       "      <th>999998</th>\n",
       "      <td>1600874191</td>\n",
       "      <td>1110621</td>\n",
       "    </tr>\n",
       "    <tr>\n",
       "      <th>999999</th>\n",
       "      <td>1600874244</td>\n",
       "      <td>1110622</td>\n",
       "    </tr>\n",
       "  </tbody>\n",
       "</table>\n",
       "<p>1000000 rows × 2 columns</p>\n",
       "</div>"
      ],
      "text/plain": [
       "            reg_ts      uid\n",
       "0        911382223        1\n",
       "1        932683089        2\n",
       "2        947802447        3\n",
       "3        959523541        4\n",
       "4        969103313        5\n",
       "...            ...      ...\n",
       "999995  1600874034  1110618\n",
       "999996  1600874086  1110619\n",
       "999997  1600874139  1110620\n",
       "999998  1600874191  1110621\n",
       "999999  1600874244  1110622\n",
       "\n",
       "[1000000 rows x 2 columns]"
      ]
     },
     "execution_count": 37,
     "metadata": {},
     "output_type": "execute_result"
    }
   ],
   "source": [
    "reg_data"
   ]
  },
  {
   "cell_type": "code",
   "execution_count": 39,
   "id": "7ab9dfac",
   "metadata": {},
   "outputs": [],
   "source": [
    "reg_data['reg_date'] = reg_data.reg_ts.apply(lambda x: datetime.fromtimestamp(x)).dt.date\n",
    "auth_data['auth_date'] = auth_data.auth_ts.apply(lambda x: datetime.fromtimestamp(x)).dt.date"
   ]
  },
  {
   "cell_type": "code",
   "execution_count": 43,
   "id": "d18bbb39",
   "metadata": {},
   "outputs": [
    {
     "data": {
      "text/plain": [
       "0"
      ]
     },
     "execution_count": 43,
     "metadata": {},
     "output_type": "execute_result"
    }
   ],
   "source": [
    "reg_data.duplicated().sum()"
   ]
  },
  {
   "cell_type": "code",
   "execution_count": 47,
   "id": "f6ea2e31",
   "metadata": {},
   "outputs": [
    {
     "data": {
      "text/plain": [
       "<AxesSubplot:xlabel='reg_date'>"
      ]
     },
     "execution_count": 47,
     "metadata": {},
     "output_type": "execute_result"
    },
    {
     "data": {
      "image/png": "[encoded data removed]",
      "text/plain": [
       "<Figure size 432x288 with 1 Axes>"
      ]
     },
     "metadata": {
      "needs_background": "light"
     },
     "output_type": "display_data"
    }
   ],
   "source": [
    "reg_data.groupby('reg_date').agg({'uid' : 'count'}).plot()"
   ]
  },
  {
   "cell_type": "code",
   "execution_count": 48,
   "id": "53093c10",
   "metadata": {},
   "outputs": [
    {
     "data": {
      "text/html": [
       "<div>\n",
       "<style scoped>\n",
       "    .dataframe tbody tr th:only-of-type {\n",
       "        vertical-align: middle;\n",
       "    }\n",
       "\n",
       "    .dataframe tbody tr th {\n",
       "        vertical-align: top;\n",
       "    }\n",
       "\n",
       "    .dataframe thead th {\n",
       "        text-align: right;\n",
       "    }\n",
       "</style>\n",
       "<table border=\"1\" class=\"dataframe\">\n",
       "  <thead>\n",
       "    <tr style=\"text-align: right;\">\n",
       "      <th></th>\n",
       "      <th>reg_ts</th>\n",
       "      <th>uid</th>\n",
       "      <th>reg_date</th>\n",
       "    </tr>\n",
       "  </thead>\n",
       "  <tbody>\n",
       "    <tr>\n",
       "      <th>0</th>\n",
       "      <td>911382223</td>\n",
       "      <td>1</td>\n",
       "      <td>1998-11-18</td>\n",
       "    </tr>\n",
       "    <tr>\n",
       "      <th>1</th>\n",
       "      <td>932683089</td>\n",
       "      <td>2</td>\n",
       "      <td>1999-07-23</td>\n",
       "    </tr>\n",
       "    <tr>\n",
       "      <th>2</th>\n",
       "      <td>947802447</td>\n",
       "      <td>3</td>\n",
       "      <td>2000-01-14</td>\n",
       "    </tr>\n",
       "    <tr>\n",
       "      <th>3</th>\n",
       "      <td>959523541</td>\n",
       "      <td>4</td>\n",
       "      <td>2000-05-28</td>\n",
       "    </tr>\n",
       "    <tr>\n",
       "      <th>4</th>\n",
       "      <td>969103313</td>\n",
       "      <td>5</td>\n",
       "      <td>2000-09-16</td>\n",
       "    </tr>\n",
       "    <tr>\n",
       "      <th>...</th>\n",
       "      <td>...</td>\n",
       "      <td>...</td>\n",
       "      <td>...</td>\n",
       "    </tr>\n",
       "    <tr>\n",
       "      <th>999995</th>\n",
       "      <td>1600874034</td>\n",
       "      <td>1110618</td>\n",
       "      <td>2020-09-23</td>\n",
       "    </tr>\n",
       "    <tr>\n",
       "      <th>999996</th>\n",
       "      <td>1600874086</td>\n",
       "      <td>1110619</td>\n",
       "      <td>2020-09-23</td>\n",
       "    </tr>\n",
       "    <tr>\n",
       "      <th>999997</th>\n",
       "      <td>1600874139</td>\n",
       "      <td>1110620</td>\n",
       "      <td>2020-09-23</td>\n",
       "    </tr>\n",
       "    <tr>\n",
       "      <th>999998</th>\n",
       "      <td>1600874191</td>\n",
       "      <td>1110621</td>\n",
       "      <td>2020-09-23</td>\n",
       "    </tr>\n",
       "    <tr>\n",
       "      <th>999999</th>\n",
       "      <td>1600874244</td>\n",
       "      <td>1110622</td>\n",
       "      <td>2020-09-23</td>\n",
       "    </tr>\n",
       "  </tbody>\n",
       "</table>\n",
       "<p>1000000 rows × 3 columns</p>\n",
       "</div>"
      ],
      "text/plain": [
       "            reg_ts      uid    reg_date\n",
       "0        911382223        1  1998-11-18\n",
       "1        932683089        2  1999-07-23\n",
       "2        947802447        3  2000-01-14\n",
       "3        959523541        4  2000-05-28\n",
       "4        969103313        5  2000-09-16\n",
       "...            ...      ...         ...\n",
       "999995  1600874034  1110618  2020-09-23\n",
       "999996  1600874086  1110619  2020-09-23\n",
       "999997  1600874139  1110620  2020-09-23\n",
       "999998  1600874191  1110621  2020-09-23\n",
       "999999  1600874244  1110622  2020-09-23\n",
       "\n",
       "[1000000 rows x 3 columns]"
      ]
     },
     "execution_count": 48,
     "metadata": {},
     "output_type": "execute_result"
    }
   ],
   "source": [
    "reg_data"
   ]
  },
  {
   "cell_type": "code",
   "execution_count": 51,
   "id": "52b9544d",
   "metadata": {},
   "outputs": [
    {
     "data": {
      "text/plain": [
       "0"
      ]
     },
     "execution_count": 51,
     "metadata": {},
     "output_type": "execute_result"
    }
   ],
   "source": [
    "# \n",
    "(auth_data.groupby(['uid', 'auth_date']).auth_ts.count() > 1).sum()"
   ]
  },
  {
   "cell_type": "code",
   "execution_count": 57,
   "id": "13d0ea04",
   "metadata": {},
   "outputs": [
    {
     "data": {
      "text/plain": [
       "<AxesSubplot:xlabel='auth_date'>"
      ]
     },
     "execution_count": 57,
     "metadata": {},
     "output_type": "execute_result"
    },
    {
     "data": {
      "image/png": "[encoded data removed]",
      "text/plain": [
       "<Figure size 432x288 with 1 Axes>"
      ]
     },
     "metadata": {
      "needs_background": "light"
     },
     "output_type": "display_data"
    }
   ],
   "source": [
    "auth_data.groupby('auth_date').agg({'uid' : 'count'}).plot()"
   ]
  },
  {
   "cell_type": "code",
   "execution_count": 59,
   "id": "69ad62a7",
   "metadata": {},
   "outputs": [
    {
     "data": {
      "text/plain": [
       "uid    2020-09-21\n",
       "dtype: object"
      ]
     },
     "execution_count": 59,
     "metadata": {},
     "output_type": "execute_result"
    }
   ],
   "source": [
    "auth_data.groupby('auth_date').agg({'uid' : 'count'}).idxmax()"
   ]
  },
  {
   "cell_type": "code",
   "execution_count": 61,
   "id": "481c4ef0",
   "metadata": {},
   "outputs": [
    {
     "data": {
      "text/plain": [
       "datetime.date(2020, 9, 23)"
      ]
     },
     "execution_count": 61,
     "metadata": {},
     "output_type": "execute_result"
    }
   ],
   "source": [
    "auth_data.auth_date.max()"
   ]
  },
  {
   "cell_type": "code",
   "execution_count": 76,
   "id": "95ffcde4",
   "metadata": {},
   "outputs": [
    {
     "data": {
      "text/plain": [
       "auth_date\n",
       "2020-09-15    15487\n",
       "2020-09-16    15577\n",
       "2020-09-17    15808\n",
       "2020-09-18    15709\n",
       "2020-09-19    15716\n",
       "2020-09-20    15816\n",
       "2020-09-21    15943\n",
       "2020-09-22    15782\n",
       "2020-09-23    11496\n",
       "Name: uid, dtype: int64"
      ]
     },
     "execution_count": 76,
     "metadata": {},
     "output_type": "execute_result"
    }
   ],
   "source": [
    "auth_data.query('(auth_date >= \"2020-09-15\") and (auth_date <= \"2020-09-30\")').groupby('auth_date').uid.count()"
   ]
  },
  {
   "cell_type": "code",
   "execution_count": 10,
   "id": "448d47ba",
   "metadata": {},
   "outputs": [],
   "source": [
    "def calculate_RR(reg_data, auth_data, start_interval='1998-11-18', end_interval=str(date.today())):\n",
    "    start_interval = datetime.strptime(start_interval, '%Y-%m-%d')\n",
    "    end_interval = datetime.strptime(end_interval, '%Y-%m-%d')\n",
    "    \n",
    "    reg_data['reg_date'] = reg_data.reg_ts.apply(lambda x: datetime.fromtimestamp(x)).dt.date\n",
    "    auth_data['auth_date'] = auth_data.auth_ts.apply(lambda x: datetime.fromtimestamp(x)).dt.date\n",
    "    \n",
    "    reg_data.reg_date = pd.to_datetime(reg_data.reg_date)\n",
    "    auth_data.auth_date = pd.to_datetime(auth_data.auth_date)\n",
    "    \n",
    "    reg_data = reg_data[(reg_data.reg_date >= start_interval) & (reg_data.reg_date <= end_interval)]\n",
    "    \n",
    "    all_data = reg_data.merge(auth_data, on='uid', how='left')\n",
    "    all_data['life_time'] = (all_data.auth_date-all_data.reg_date).dt.days\n",
    "    \n",
    "    pre_ret = all_data.groupby(['reg_date', 'life_time'], as_index=0).agg({'uid' : 'nunique'}). \\\n",
    "        rename(columns={'uid' : 'retention'}).merge(reg_data.groupby('reg_date').agg({'uid': 'count'}), on='reg_date')\n",
    "    \n",
    "    pre_ret['RR'] = pre_ret.retention / pre_ret.uid\n",
    "    pre_ret = pre_ret.query('life_time < 31')\n",
    "    RR_table = pre_ret.pivot(index='reg_date', columns='life_time', values='RR')\n",
    "    return RR_table"
   ]
  },
  {
   "cell_type": "code",
   "execution_count": 70,
   "id": "c5e441a6",
   "metadata": {},
   "outputs": [],
   "source": [
    "result = calculate_RR(reg_data, auth_data, start_interval='2020-09-10', end_interval='2020-09-23')"
   ]
  },
  {
   "cell_type": "code",
   "execution_count": 71,
   "id": "cb3de718",
   "metadata": {},
   "outputs": [
    {
     "data": {
      "text/html": [
       "<div>\n",
       "<style scoped>\n",
       "    .dataframe tbody tr th:only-of-type {\n",
       "        vertical-align: middle;\n",
       "    }\n",
       "\n",
       "    .dataframe tbody tr th {\n",
       "        vertical-align: top;\n",
       "    }\n",
       "\n",
       "    .dataframe thead th {\n",
       "        text-align: right;\n",
       "    }\n",
       "</style>\n",
       "<table border=\"1\" class=\"dataframe\">\n",
       "  <thead>\n",
       "    <tr style=\"text-align: right;\">\n",
       "      <th>life_time</th>\n",
       "      <th>0</th>\n",
       "      <th>1</th>\n",
       "      <th>2</th>\n",
       "      <th>3</th>\n",
       "      <th>4</th>\n",
       "      <th>5</th>\n",
       "      <th>6</th>\n",
       "      <th>7</th>\n",
       "      <th>8</th>\n",
       "      <th>9</th>\n",
       "      <th>10</th>\n",
       "      <th>11</th>\n",
       "      <th>12</th>\n",
       "      <th>13</th>\n",
       "    </tr>\n",
       "    <tr>\n",
       "      <th>reg_date</th>\n",
       "      <th></th>\n",
       "      <th></th>\n",
       "      <th></th>\n",
       "      <th></th>\n",
       "      <th></th>\n",
       "      <th></th>\n",
       "      <th></th>\n",
       "      <th></th>\n",
       "      <th></th>\n",
       "      <th></th>\n",
       "      <th></th>\n",
       "      <th></th>\n",
       "      <th></th>\n",
       "      <th></th>\n",
       "    </tr>\n",
       "  </thead>\n",
       "  <tbody>\n",
       "    <tr>\n",
       "      <th>2020-09-10</th>\n",
       "      <td>1.0</td>\n",
       "      <td>0.018024</td>\n",
       "      <td>0.044127</td>\n",
       "      <td>0.045991</td>\n",
       "      <td>0.043505</td>\n",
       "      <td>0.069608</td>\n",
       "      <td>0.057800</td>\n",
       "      <td>0.068365</td>\n",
       "      <td>0.049720</td>\n",
       "      <td>0.041019</td>\n",
       "      <td>0.060907</td>\n",
       "      <td>0.047856</td>\n",
       "      <td>0.052206</td>\n",
       "      <td>0.036669</td>\n",
       "    </tr>\n",
       "    <tr>\n",
       "      <th>2020-09-11</th>\n",
       "      <td>1.0</td>\n",
       "      <td>0.014277</td>\n",
       "      <td>0.039727</td>\n",
       "      <td>0.039106</td>\n",
       "      <td>0.061453</td>\n",
       "      <td>0.063315</td>\n",
       "      <td>0.068901</td>\n",
       "      <td>0.062694</td>\n",
       "      <td>0.049038</td>\n",
       "      <td>0.039106</td>\n",
       "      <td>0.055866</td>\n",
       "      <td>0.061453</td>\n",
       "      <td>0.039106</td>\n",
       "      <td>NaN</td>\n",
       "    </tr>\n",
       "    <tr>\n",
       "      <th>2020-09-12</th>\n",
       "      <td>1.0</td>\n",
       "      <td>0.017968</td>\n",
       "      <td>0.040892</td>\n",
       "      <td>0.039653</td>\n",
       "      <td>0.040273</td>\n",
       "      <td>0.063197</td>\n",
       "      <td>0.068773</td>\n",
       "      <td>0.057621</td>\n",
       "      <td>0.046468</td>\n",
       "      <td>0.051425</td>\n",
       "      <td>0.052045</td>\n",
       "      <td>0.029740</td>\n",
       "      <td>NaN</td>\n",
       "      <td>NaN</td>\n",
       "    </tr>\n",
       "    <tr>\n",
       "      <th>2020-09-13</th>\n",
       "      <td>1.0</td>\n",
       "      <td>0.022263</td>\n",
       "      <td>0.044527</td>\n",
       "      <td>0.039579</td>\n",
       "      <td>0.050093</td>\n",
       "      <td>0.061843</td>\n",
       "      <td>0.066172</td>\n",
       "      <td>0.051948</td>\n",
       "      <td>0.048237</td>\n",
       "      <td>0.050093</td>\n",
       "      <td>0.044527</td>\n",
       "      <td>NaN</td>\n",
       "      <td>NaN</td>\n",
       "      <td>NaN</td>\n",
       "    </tr>\n",
       "    <tr>\n",
       "      <th>2020-09-14</th>\n",
       "      <td>1.0</td>\n",
       "      <td>0.019753</td>\n",
       "      <td>0.038889</td>\n",
       "      <td>0.042593</td>\n",
       "      <td>0.058025</td>\n",
       "      <td>0.062963</td>\n",
       "      <td>0.068519</td>\n",
       "      <td>0.068519</td>\n",
       "      <td>0.044444</td>\n",
       "      <td>0.033951</td>\n",
       "      <td>NaN</td>\n",
       "      <td>NaN</td>\n",
       "      <td>NaN</td>\n",
       "      <td>NaN</td>\n",
       "    </tr>\n",
       "    <tr>\n",
       "      <th>2020-09-15</th>\n",
       "      <td>1.0</td>\n",
       "      <td>0.022811</td>\n",
       "      <td>0.040074</td>\n",
       "      <td>0.045006</td>\n",
       "      <td>0.060419</td>\n",
       "      <td>0.057337</td>\n",
       "      <td>0.069667</td>\n",
       "      <td>0.053637</td>\n",
       "      <td>0.028360</td>\n",
       "      <td>NaN</td>\n",
       "      <td>NaN</td>\n",
       "      <td>NaN</td>\n",
       "      <td>NaN</td>\n",
       "      <td>NaN</td>\n",
       "    </tr>\n",
       "    <tr>\n",
       "      <th>2020-09-16</th>\n",
       "      <td>1.0</td>\n",
       "      <td>0.020923</td>\n",
       "      <td>0.041231</td>\n",
       "      <td>0.044308</td>\n",
       "      <td>0.049846</td>\n",
       "      <td>0.060923</td>\n",
       "      <td>0.076923</td>\n",
       "      <td>0.040000</td>\n",
       "      <td>NaN</td>\n",
       "      <td>NaN</td>\n",
       "      <td>NaN</td>\n",
       "      <td>NaN</td>\n",
       "      <td>NaN</td>\n",
       "      <td>NaN</td>\n",
       "    </tr>\n",
       "    <tr>\n",
       "      <th>2020-09-17</th>\n",
       "      <td>1.0</td>\n",
       "      <td>0.016595</td>\n",
       "      <td>0.041180</td>\n",
       "      <td>0.043639</td>\n",
       "      <td>0.059004</td>\n",
       "      <td>0.062077</td>\n",
       "      <td>0.055317</td>\n",
       "      <td>NaN</td>\n",
       "      <td>NaN</td>\n",
       "      <td>NaN</td>\n",
       "      <td>NaN</td>\n",
       "      <td>NaN</td>\n",
       "      <td>NaN</td>\n",
       "      <td>NaN</td>\n",
       "    </tr>\n",
       "    <tr>\n",
       "      <th>2020-09-18</th>\n",
       "      <td>1.0</td>\n",
       "      <td>0.021472</td>\n",
       "      <td>0.042331</td>\n",
       "      <td>0.045399</td>\n",
       "      <td>0.046626</td>\n",
       "      <td>0.044785</td>\n",
       "      <td>NaN</td>\n",
       "      <td>NaN</td>\n",
       "      <td>NaN</td>\n",
       "      <td>NaN</td>\n",
       "      <td>NaN</td>\n",
       "      <td>NaN</td>\n",
       "      <td>NaN</td>\n",
       "      <td>NaN</td>\n",
       "    </tr>\n",
       "    <tr>\n",
       "      <th>2020-09-19</th>\n",
       "      <td>1.0</td>\n",
       "      <td>0.018371</td>\n",
       "      <td>0.036130</td>\n",
       "      <td>0.047152</td>\n",
       "      <td>0.041029</td>\n",
       "      <td>NaN</td>\n",
       "      <td>NaN</td>\n",
       "      <td>NaN</td>\n",
       "      <td>NaN</td>\n",
       "      <td>NaN</td>\n",
       "      <td>NaN</td>\n",
       "      <td>NaN</td>\n",
       "      <td>NaN</td>\n",
       "      <td>NaN</td>\n",
       "    </tr>\n",
       "    <tr>\n",
       "      <th>2020-09-20</th>\n",
       "      <td>1.0</td>\n",
       "      <td>0.023227</td>\n",
       "      <td>0.043399</td>\n",
       "      <td>0.034841</td>\n",
       "      <td>NaN</td>\n",
       "      <td>NaN</td>\n",
       "      <td>NaN</td>\n",
       "      <td>NaN</td>\n",
       "      <td>NaN</td>\n",
       "      <td>NaN</td>\n",
       "      <td>NaN</td>\n",
       "      <td>NaN</td>\n",
       "      <td>NaN</td>\n",
       "      <td>NaN</td>\n",
       "    </tr>\n",
       "    <tr>\n",
       "      <th>2020-09-21</th>\n",
       "      <td>1.0</td>\n",
       "      <td>0.017705</td>\n",
       "      <td>0.032357</td>\n",
       "      <td>NaN</td>\n",
       "      <td>NaN</td>\n",
       "      <td>NaN</td>\n",
       "      <td>NaN</td>\n",
       "      <td>NaN</td>\n",
       "      <td>NaN</td>\n",
       "      <td>NaN</td>\n",
       "      <td>NaN</td>\n",
       "      <td>NaN</td>\n",
       "      <td>NaN</td>\n",
       "      <td>NaN</td>\n",
       "    </tr>\n",
       "    <tr>\n",
       "      <th>2020-09-22</th>\n",
       "      <td>1.0</td>\n",
       "      <td>0.013406</td>\n",
       "      <td>NaN</td>\n",
       "      <td>NaN</td>\n",
       "      <td>NaN</td>\n",
       "      <td>NaN</td>\n",
       "      <td>NaN</td>\n",
       "      <td>NaN</td>\n",
       "      <td>NaN</td>\n",
       "      <td>NaN</td>\n",
       "      <td>NaN</td>\n",
       "      <td>NaN</td>\n",
       "      <td>NaN</td>\n",
       "      <td>NaN</td>\n",
       "    </tr>\n",
       "    <tr>\n",
       "      <th>2020-09-23</th>\n",
       "      <td>1.0</td>\n",
       "      <td>NaN</td>\n",
       "      <td>NaN</td>\n",
       "      <td>NaN</td>\n",
       "      <td>NaN</td>\n",
       "      <td>NaN</td>\n",
       "      <td>NaN</td>\n",
       "      <td>NaN</td>\n",
       "      <td>NaN</td>\n",
       "      <td>NaN</td>\n",
       "      <td>NaN</td>\n",
       "      <td>NaN</td>\n",
       "      <td>NaN</td>\n",
       "      <td>NaN</td>\n",
       "    </tr>\n",
       "  </tbody>\n",
       "</table>\n",
       "</div>"
      ],
      "text/plain": [
       "life_time    0         1         2         3         4         5         6   \\\n",
       "reg_date                                                                      \n",
       "2020-09-10  1.0  0.018024  0.044127  0.045991  0.043505  0.069608  0.057800   \n",
       "2020-09-11  1.0  0.014277  0.039727  0.039106  0.061453  0.063315  0.068901   \n",
       "2020-09-12  1.0  0.017968  0.040892  0.039653  0.040273  0.063197  0.068773   \n",
       "2020-09-13  1.0  0.022263  0.044527  0.039579  0.050093  0.061843  0.066172   \n",
       "2020-09-14  1.0  0.019753  0.038889  0.042593  0.058025  0.062963  0.068519   \n",
       "2020-09-15  1.0  0.022811  0.040074  0.045006  0.060419  0.057337  0.069667   \n",
       "2020-09-16  1.0  0.020923  0.041231  0.044308  0.049846  0.060923  0.076923   \n",
       "2020-09-17  1.0  0.016595  0.041180  0.043639  0.059004  0.062077  0.055317   \n",
       "2020-09-18  1.0  0.021472  0.042331  0.045399  0.046626  0.044785       NaN   \n",
       "2020-09-19  1.0  0.018371  0.036130  0.047152  0.041029       NaN       NaN   \n",
       "2020-09-20  1.0  0.023227  0.043399  0.034841       NaN       NaN       NaN   \n",
       "2020-09-21  1.0  0.017705  0.032357       NaN       NaN       NaN       NaN   \n",
       "2020-09-22  1.0  0.013406       NaN       NaN       NaN       NaN       NaN   \n",
       "2020-09-23  1.0       NaN       NaN       NaN       NaN       NaN       NaN   \n",
       "\n",
       "life_time         7         8         9         10        11        12  \\\n",
       "reg_date                                                                 \n",
       "2020-09-10  0.068365  0.049720  0.041019  0.060907  0.047856  0.052206   \n",
       "2020-09-11  0.062694  0.049038  0.039106  0.055866  0.061453  0.039106   \n",
       "2020-09-12  0.057621  0.046468  0.051425  0.052045  0.029740       NaN   \n",
       "2020-09-13  0.051948  0.048237  0.050093  0.044527       NaN       NaN   \n",
       "2020-09-14  0.068519  0.044444  0.033951       NaN       NaN       NaN   \n",
       "2020-09-15  0.053637  0.028360       NaN       NaN       NaN       NaN   \n",
       "2020-09-16  0.040000       NaN       NaN       NaN       NaN       NaN   \n",
       "2020-09-17       NaN       NaN       NaN       NaN       NaN       NaN   \n",
       "2020-09-18       NaN       NaN       NaN       NaN       NaN       NaN   \n",
       "2020-09-19       NaN       NaN       NaN       NaN       NaN       NaN   \n",
       "2020-09-20       NaN       NaN       NaN       NaN       NaN       NaN   \n",
       "2020-09-21       NaN       NaN       NaN       NaN       NaN       NaN   \n",
       "2020-09-22       NaN       NaN       NaN       NaN       NaN       NaN   \n",
       "2020-09-23       NaN       NaN       NaN       NaN       NaN       NaN   \n",
       "\n",
       "life_time         13  \n",
       "reg_date              \n",
       "2020-09-10  0.036669  \n",
       "2020-09-11       NaN  \n",
       "2020-09-12       NaN  \n",
       "2020-09-13       NaN  \n",
       "2020-09-14       NaN  \n",
       "2020-09-15       NaN  \n",
       "2020-09-16       NaN  \n",
       "2020-09-17       NaN  \n",
       "2020-09-18       NaN  \n",
       "2020-09-19       NaN  \n",
       "2020-09-20       NaN  \n",
       "2020-09-21       NaN  \n",
       "2020-09-22       NaN  \n",
       "2020-09-23       NaN  "
      ]
     },
     "execution_count": 71,
     "metadata": {},
     "output_type": "execute_result"
    }
   ],
   "source": [
    "result"
   ]
  },
  {
   "cell_type": "code",
   "execution_count": 68,
   "id": "39c384a5",
   "metadata": {},
   "outputs": [],
   "source": [
    "test = result.reset_index().query('reg_date == \"2020-09-15\"').set_index('reg_date')"
   ]
  },
  {
   "cell_type": "code",
   "execution_count": 69,
   "id": "5db1993f",
   "metadata": {},
   "outputs": [
    {
     "data": {
      "text/plain": [
       "<AxesSubplot:xlabel='reg_date,life_time'>"
      ]
     },
     "execution_count": 69,
     "metadata": {},
     "output_type": "execute_result"
    },
    {
     "data": {
      "image/png": "[encoded data removed]",
      "text/plain": [
       "<Figure size 432x288 with 1 Axes>"
      ]
     },
     "metadata": {
      "needs_background": "light"
     },
     "output_type": "display_data"
    }
   ],
   "source": [
    "test.stack().plot()"
   ]
  },
  {
   "cell_type": "code",
   "execution_count": null,
   "id": "4f34fd50",
   "metadata": {},
   "outputs": [],
   "source": []
  }
 ],
 "metadata": {
  "kernelspec": {
   "display_name": "Python 3",
   "language": "python",
   "name": "python3"
  },
  "language_info": {
   "codemirror_mode": {
    "name": "ipython",
    "version": 3
   },
   "file_extension": ".py",
   "mimetype": "text/x-python",
   "name": "python",
   "nbconvert_exporter": "python",
   "pygments_lexer": "ipython3",
   "version": "3.8.8"
  }
 },
 "nbformat": 4,
 "nbformat_minor": 5
}
